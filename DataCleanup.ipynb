{
 "cells": [
  {
   "cell_type": "markdown",
   "metadata": {},
   "source": [
    "# The Open Sourcing Mental Health or OSMI Mental Health survey"
   ]
  },
  {
   "cell_type": "markdown",
   "metadata": {},
   "source": [
    "## This jupyter notebook deals with cleaning the dataset and preparing the datasets for further processing. It is often said that well-defined data beats fancy and complex algorithms. The datasets available as of now are from the years 2014, 2016, 2017 and 2018."
   ]
  },
  {
   "cell_type": "markdown",
   "metadata": {},
   "source": [
    "### All warnings are supressed to produce more concise output."
   ]
  },
  {
   "cell_type": "code",
   "execution_count": 1,
   "metadata": {},
   "outputs": [],
   "source": [
    "import sys\n",
    "import warnings\n",
    "\n",
    "if not sys.warnoptions:\n",
    "    warnings.simplefilter(\"ignore\")"
   ]
  },
  {
   "cell_type": "markdown",
   "metadata": {},
   "source": [
    "### Importing the datasets. The datasets are from years 2014, 2016, 2017 and 2018."
   ]
  },
  {
   "cell_type": "code",
   "execution_count": 2,
   "metadata": {},
   "outputs": [
    {
     "name": "stdout",
     "output_type": "stream",
     "text": [
      "(3866, 192)\n"
     ]
    }
   ],
   "source": [
    "import pandas as pd  # data processing, CSV file I/O\n",
    "\n",
    "survey2014 = pd.read_csv('datasets/OSMIMentalHealthinTechSurvey2014.csv').assign(Year=2014)\n",
    "survey2016 = pd.read_csv('datasets/OSMIMentalHealthinTechSurvey2016.csv').assign(Year=2016)\n",
    "survey2017 = pd.read_csv('datasets/OSMIMentalHealthinTechSurvey2017.csv').assign(Year=2017)\n",
    "survey2018 = pd.read_csv('datasets/OSMIMentalHealthinTechSurvey2018.csv').assign(Year=2018)\n",
    "\n",
    "survey1416 =  pd.concat([survey2014, survey2016], ignore_index=True, sort=True)\n",
    "survey1718 = pd.concat([survey2017, survey2018], ignore_index=True, sort=True)\n",
    "survey = pd.concat([survey1416, survey1718], ignore_index=True, sort=True)\n",
    "print(survey.shape)"
   ]
  },
  {
   "cell_type": "markdown",
   "metadata": {},
   "source": [
    "### All the surveys have been collected and placed in a list of datasets. Now, to clean the dataset, a function is defined which takes the dataset and removes some common impurities.\n",
    "### 1. HTML elements\n",
    "### 2. Un-needed columns\n",
    "### 3. Reset index"
   ]
  },
  {
   "cell_type": "code",
   "execution_count": 3,
   "metadata": {},
   "outputs": [
    {
     "name": "stdout",
     "output_type": "stream",
     "text": [
      "(3866, 192)\n"
     ]
    }
   ],
   "source": [
    "import re \n",
    "\n",
    "def clean_columns(dataframe):\n",
    "\n",
    "    dataframe.columns = map(str.lower, dataframe.columns)\n",
    "\n",
    "    # Remove HTML artifacts\n",
    "    dataframe.rename(columns=lambda colname: re.sub('</\\w+>', '', colname), inplace=True)\n",
    "    dataframe.rename(columns=lambda colname: re.sub('<\\w+>', '', colname), inplace=True)\n",
    "\n",
    "\n",
    "    if {'#', 'start date (utc)', 'submit date (utc)', 'network id', 'timesstamp'}.issubset(set(dataframe.columns)):\n",
    "        dataframe.drop(columns=['#', 'start date (utc)', 'submit date (utc)', 'network id'], inplace=True)\n",
    "\n",
    "    dataframe.reset_index(drop=True)\n",
    "\n",
    "    return dataframe\n",
    "\n",
    "\n",
    "survey = clean_columns(survey)\n",
    "print(survey.shape)"
   ]
  },
  {
   "cell_type": "markdown",
   "metadata": {},
   "source": [
    "### It is important to know the makeup of the data and the number of null values / dirty values or noise present in it. To help with this a funtion is defined which takes the data and plots the number of null or impure values. The blue lines show missing data. Presence of large number of blue bars means the dataset is full of empty or impure values.\n"
   ]
  },
  {
   "cell_type": "code",
   "execution_count": 4,
   "metadata": {},
   "outputs": [
    {
     "name": "stdout",
     "output_type": "stream",
     "text": [
      "                                                    Total missing     Percent\n",
      "psychotic disorder (schizophrenia, schizoaffect...           3866  100.000000\n",
      "personality disorder (borderline, antisocial, p...           3866  100.000000\n",
      "substance use disorder                                       3866  100.000000\n",
      "stress response syndromes                                    3866  100.000000\n",
      "anxiety disorder (generalized, social, phobia, ...           3866  100.000000\n",
      "addictive disorder                                           3866  100.000000\n",
      "psychotic disorder (schizophrenia, schizoaffect...           3866  100.000000\n",
      "attention deficit hyperactivity disorder                     3866  100.000000\n",
      "post-traumatic stress disorder                               3866  100.000000\n",
      "describe the circumstances of the supportive or...           3866  100.000000\n",
      "other                                                        3866  100.000000\n",
      "obsessive-compulsive disorder                                3866  100.000000\n",
      "mood disorder (depression, bipolar disorder, etc)            3866  100.000000\n",
      "dissociative disorder                                        3866  100.000000\n",
      "eating disorder (anorexia, bulimia, etc)                     3866  100.000000\n",
      "other.1                                                      3861   99.870667\n",
      "eating disorder (anorexia, bulimia, etc).1                   3861   99.870667\n",
      "dissociative disorder.1                                      3860   99.844801\n",
      "dissociative disorder.2                                      3858   99.793068\n",
      "substance use disorder.1                                     3856   99.741335\n"
     ]
    },
    {
     "data": {
      "image/png": "[encoded data removed]",
      "text/plain": [
       "<Figure size 1800x360 with 1 Axes>"
      ]
     },
     "metadata": {
      "needs_background": "light"
     },
     "output_type": "display_data"
    }
   ],
   "source": [
    "import numpy as np; \n",
    "import matplotlib.pyplot as plt\n",
    "%matplotlib inline\n",
    "\n",
    "def ShowNullValues(dataframe):\n",
    "    total = dataframe.isnull().sum().sort_values(ascending=False)\n",
    "    nullValues = dataframe.isnull().sum()\n",
    "    totalValues = dataframe.isnull().count()\n",
    "    percent = (nullValues/totalValues).sort_values(ascending=False)\n",
    "    missingData = pd.concat([total, percent*100], axis=1, keys=['Total missing', 'Percent'])\n",
    "    print(missingData.head(20))\n",
    "    plt.figure(figsize=(25,5))\n",
    "    total.plot.bar()\n",
    "    y = ((lambda x: str(x)) (x) for x in range(len(dataframe.columns)))\n",
    "    plt.xticks(np.arange(len(dataframe.columns)), (y))\n",
    "    plt.ylabel(\"No. of missing or empty values\")\n",
    "    plt.xlabel(\"Dataset Features\")\n",
    "   \n",
    "    plt.show()\n",
    "    return missingData\n",
    "\n",
    "noisyData = ShowNullValues(survey)"
   ]
  },
  {
   "cell_type": "markdown",
   "metadata": {},
   "source": [
    "### Ouch! The dataset is full of missing or impure values which need to be cleaned before any further analysis can be carried out. "
   ]
  },
  {
   "cell_type": "markdown",
   "metadata": {},
   "source": [
    "### To start of, the age and gender data is cleaned."
   ]
  },
  {
   "cell_type": "code",
   "execution_count": 5,
   "metadata": {},
   "outputs": [],
   "source": [
    "# ageDistribution = survey.loc[:, survey.columns.str.contains('age', regex=True)]\n",
    "ageDistribution = survey.loc[:, ['age', 'what is your age?']]\n",
    "ageDistribution.fillna(0, inplace=True)\n",
    "survey.loc[:,'Age'] = ageDistribution.sum(axis=1)\n",
    "survey.loc[survey['Age']>100, 'Age'] = 30\n",
    "survey.loc[survey['Age']<0, 'Age'] = 30\n",
    "survey['Age-range'] = pd.cut(survey['Age'], [0, 20, 30, 65, 100], labels=[\"0-20\", \"21-30\", \"31-65\", \"66-100\"], include_lowest=True)\n",
    "survey.drop(ageDistribution, axis=1, inplace=True)"
   ]
  },
  {
   "cell_type": "code",
   "execution_count": 6,
   "metadata": {},
   "outputs": [
    {
     "name": "stdout",
     "output_type": "stream",
     "text": [
      "['Female' 'Male' 'Undecided']\n"
     ]
    }
   ],
   "source": [
    "genderDistribution = survey.loc[:, survey.columns.str.contains('gender|Gender', regex=True)]\n",
    "survey['Gender'] = genderDistribution.apply(lambda row: ' '.join(row.values.astype(str)), axis=1)\n",
    "survey.loc[survey['Gender'].str.contains('Trans|them|trans|Undecided|Contextual|transgender|nb|unicorn|Unicorn|queer|NB|binary|Enby|Human|little|androgynous|Androgyne|Neutral|Agender|Androgynous|Androgynous|Fluid|GenderFluid|Genderflux|genderqueer|Genderqueer' , regex=True), 'Gender'] = 'Undecided'\n",
    "survey.loc[survey['Gender'].str.contains('Female|female|FEMALE|Woman|woman|w|womail|W|Cis female| Female (cis)|Cis Female|cis female|cis woman|F|f' , regex=True), 'Gender'] = 'Female'\n",
    "cond1 = survey['Gender']!='Female'\n",
    "cond2 = survey['Gender']!='Undecided'\n",
    "survey.loc[cond1 & cond2, 'Gender'] = 'Male'\n",
    "survey.drop(genderDistribution, axis=1, inplace=True)\n",
    "showGender = survey['Gender']\n",
    "print(showGender.unique())"
   ]
  },
  {
   "cell_type": "markdown",
   "metadata": {},
   "source": [
    "### Let's find out the number of people who have sought treatment for mental health conditions."
   ]
  },
  {
   "cell_type": "code",
   "execution_count": 7,
   "metadata": {},
   "outputs": [
    {
     "name": "stdout",
     "output_type": "stream",
     "text": [
      "['Yes' 'No']\n"
     ]
    }
   ],
   "source": [
    "soughtTreatment = survey.loc[:, survey.columns.str.contains('sought treatment')]\n",
    "soughtTreatment.fillna('', inplace=True)\n",
    "survey['Sought Treatment'] = soughtTreatment.apply(lambda row: ' '.join(row.values.astype(str)), axis=1)\n",
    "survey.loc[survey['Sought Treatment'].str.contains('yes|1.0|1|Yes' , regex=True), 'Sought Treatment'] = 'Yes'\n",
    "survey.loc[survey['Sought Treatment'].str.contains('no|0.0|0|No' , regex=True), 'Sought Treatment'] = 'No'\n",
    "survey.drop(soughtTreatment, axis=1, inplace=True)\n",
    "showSoughtTreatment = survey['Sought Treatment']\n",
    "print(showSoughtTreatment.unique())"
   ]
  },
  {
   "cell_type": "code",
   "execution_count": 8,
   "metadata": {},
   "outputs": [
    {
     "name": "stdout",
     "output_type": "stream",
     "text": [
      "                                                    Total missing     Percent\n",
      "dissociative disorder                                        3866  100.000000\n",
      "psychotic disorder (schizophrenia, schizoaffect...           3866  100.000000\n",
      "addictive disorder                                           3866  100.000000\n",
      "mood disorder (depression, bipolar disorder, etc)            3866  100.000000\n",
      "attention deficit hyperactivity disorder                     3866  100.000000\n",
      "substance use disorder                                       3866  100.000000\n",
      "stress response syndromes                                    3866  100.000000\n",
      "describe the circumstances of the supportive or...           3866  100.000000\n",
      "anxiety disorder (generalized, social, phobia, ...           3866  100.000000\n",
      "psychotic disorder (schizophrenia, schizoaffect...           3866  100.000000\n",
      "post-traumatic stress disorder                               3866  100.000000\n",
      "personality disorder (borderline, antisocial, p...           3866  100.000000\n",
      "obsessive-compulsive disorder                                3866  100.000000\n",
      "eating disorder (anorexia, bulimia, etc)                     3866  100.000000\n",
      "other                                                        3866  100.000000\n",
      "eating disorder (anorexia, bulimia, etc).1                   3861   99.870667\n",
      "other.1                                                      3861   99.870667\n",
      "dissociative disorder.1                                      3860   99.844801\n",
      "dissociative disorder.2                                      3858   99.793068\n",
      "substance use disorder.1                                     3856   99.741335\n"
     ]
    },
    {
     "data": {
      "image/png": "[encoded data removed]",
      "text/plain": [
       "<Figure size 1800x360 with 1 Axes>"
      ]
     },
     "metadata": {
      "needs_background": "light"
     },
     "output_type": "display_data"
    }
   ],
   "source": [
    "noisyData = ShowNullValues(survey)"
   ]
  },
  {
   "cell_type": "markdown",
   "metadata": {},
   "source": [
    "### Description of prior experience with talking or discussing about mental health."
   ]
  },
  {
   "cell_type": "code",
   "execution_count": 9,
   "metadata": {},
   "outputs": [
    {
     "name": "stdout",
     "output_type": "stream",
     "text": [
      "0                                                        \n",
      "1                                                        \n",
      "2                                                        \n",
      "3                                                        \n",
      "4                                                        \n",
      "                              ...                        \n",
      "3861                                                     \n",
      "3862        Told about My depression got supportive re...\n",
      "3863        I've brought up my depression with previou...\n",
      "3864      Multiple conversations Supportive. They unde...\n",
      "3865    Coworker transitioned mtf and was treated poor...\n",
      "Name: Describe Past Experience, Length: 3866, dtype: object\n"
     ]
    }
   ],
   "source": [
    "describethe = survey.loc[:, survey.columns.str.contains('describe the')]\n",
    "describethe.fillna('', inplace=True)\n",
    "survey['Describe Past Experience'] = describethe.apply(lambda row: ' '.join(row.values.astype(str)), axis=1)\n",
    "survey.drop(describethe, axis=1, inplace=True)\n",
    "showPastExperience = survey['Describe Past Experience']\n",
    "print(showPastExperience)"
   ]
  },
  {
   "cell_type": "code",
   "execution_count": 10,
   "metadata": {},
   "outputs": [
    {
     "name": "stdout",
     "output_type": "stream",
     "text": [
      "[' ' 'No' 'Yes']\n"
     ]
    }
   ],
   "source": [
    "anon = survey.loc[:, survey.columns.str.contains('anonymous')]\n",
    "anon.fillna('', inplace=True)\n",
    "survey['Prefer Anonymity'] = anon.apply(lambda row: ' '.join(row.values.astype(str)), axis=1)\n",
    "survey.loc[survey['Prefer Anonymity'].str.contains('yes|1.0|1|Yes', regex=True), 'Prefer Anonymity'] = 'Yes'\n",
    "survey.loc[survey['Prefer Anonymity'].str.contains('no|0.0|0|No' , regex=True), 'Prefer Anonymity'] = 'No'\n",
    "survey.drop(anon, axis=1, inplace=True)\n",
    "showPreferAnonymity = survey['Prefer Anonymity']\n",
    "print(showPreferAnonymity.unique())"
   ]
  },
  {
   "cell_type": "code",
   "execution_count": 11,
   "metadata": {},
   "outputs": [
    {
     "name": "stdout",
     "output_type": "stream",
     "text": [
      "[' ' 'Below Average' 'Above Average']\n"
     ]
    }
   ],
   "source": [
    "react = survey.loc[:, survey.columns.str.contains('react')]\n",
    "react.fillna('', inplace=True)\n",
    "survey['Rate Reaction to Problems'] = react.apply(lambda row: ' '.join(row.values.astype(str)), axis=1)\n",
    "survey.loc[survey['Rate Reaction to Problems'].str.contains('0.0|1.0|2.0|3.0|4.0|5.0', regex=True), 'Rate Reaction to Problems'] = 'Below Average'\n",
    "survey.loc[survey['Rate Reaction to Problems'].str.contains('6.0|7.0|8.0|9.0|10.0', regex=True), 'Rate Reaction to Problems'] = 'Above Average'\n",
    "survey.drop(react, axis=1, inplace=True)\n",
    "showReaction = survey['Rate Reaction to Problems']\n",
    "print(showReaction.unique())"
   ]
  },
  {
   "cell_type": "code",
   "execution_count": 12,
   "metadata": {},
   "outputs": [
    {
     "name": "stdout",
     "output_type": "stream",
     "text": [
      "['No' 'Maybe' 'Yes' 'Self-Employed' '             ']\n"
     ]
    }
   ],
   "source": [
    "neg = survey.loc[:, survey.columns.str.contains('negative|badly', regex=True)]\n",
    "neg.fillna(' ', inplace=True)\n",
    "survey['Negative Consequences'] = neg.apply(lambda row: ''.join(row.values.astype(str)), axis=1)\n",
    "survey.loc[survey['Negative Consequences'].str.contains('yes|1.0|1|Yes' , regex=True), 'Negative Consequences'] = 'Yes'\n",
    "survey.loc[survey['Negative Consequences'].str.contains('maybe|Maybe|1' , regex=True), 'Negative Consequences'] = 'Maybe'\n",
    "survey.loc[survey['Negative Consequences'].str.contains('no|No|0' , regex=True), 'Negative Consequences'] = 'No'\n",
    "survey.loc[survey['Negative Consequences'].str.contains('self-employed' , regex=True), 'Negative Consequences'] = 'Self-Employed'\n",
    "survey.drop(neg, axis=1, inplace=True)\n",
    "showNegativeConsequnces = survey['Negative Consequences']\n",
    "print(showNegativeConsequnces.unique())"
   ]
  },
  {
   "cell_type": "markdown",
   "metadata": {},
   "source": [
    "### The location of people taking the OSMI tech survey. This may reflect the differences in how mental health is viewod or treated across the world. "
   ]
  },
  {
   "cell_type": "code",
   "execution_count": 13,
   "metadata": {},
   "outputs": [
    {
     "name": "stdout",
     "output_type": "stream",
     "text": [
      "['USA' 'Canada' 'United Kingdom' 'Bulgaria' 'France' 'Portugal'\n",
      " 'Netherlands' 'Switzerland' 'Poland' 'Australia' 'Germany' 'Russia'\n",
      " 'Mexico' 'Brazil' 'Slovenia' 'Costa Rica' 'Austria' 'Ireland' 'India'\n",
      " 'South Africa' 'Italy' 'Sweden' 'Colombia' 'Latvia' 'Romania' 'Belgium'\n",
      " 'New Zealand' 'Zimbabwe' 'Spain' 'Finland' 'Uruguay' 'Israel'\n",
      " 'Bosnia and Herzegovina' 'Hungary' 'Singapore' 'Japan' 'Nigeria'\n",
      " 'Croatia' 'Norway' 'Thailand' 'Denmark' 'Bahamas, The' 'Greece' 'Moldova'\n",
      " 'Georgia' 'China' 'Czech Republic' 'Philippines' 'Lithuania' 'Venezuela'\n",
      " 'Argentina' 'Vietnam' 'Slovakia' 'Bangladesh' 'Algeria' 'Pakistan'\n",
      " 'Afghanistan' 'Other' 'Brunei' 'Iran' 'Ecuador' 'Chile' 'Guatemala'\n",
      " 'Taiwan' 'Serbia' 'Estonia' 'Iceland' 'Indonesia' 'Jordan' 'Ukraine'\n",
      " 'Belarus' 'Turkey' '' 'Mauritius' 'Saudi Arabia' 'Kenya' 'Ethiopia'\n",
      " 'Macedonia' 'Hong Kong']\n"
     ]
    }
   ],
   "source": [
    "work = survey.loc[:, survey.columns.str.contains('work in', regex=True)]\n",
    "survey.drop(work, axis=1, inplace=True)\n",
    "state = survey.loc[:, survey.columns.str.contains('country', regex=True)]\n",
    "state.fillna('', inplace=True)\n",
    "survey['Location'] = state.apply(lambda row: ''.join(row.values.astype(str)), axis=1)\n",
    "survey.loc[survey['Location'].str.contains('[A-Z][A-Z]|United States' , regex=True), 'Location'] = 'USA'\n",
    "showLocation = survey['Location']\n",
    "survey.drop(state, axis=1, inplace=True)\n",
    "print(showLocation.unique())"
   ]
  },
  {
   "cell_type": "markdown",
   "metadata": {},
   "source": [
    "### It's important to know if the employees have any access to any resources regarding mental health issues or remedies."
   ]
  },
  {
   "cell_type": "code",
   "execution_count": 14,
   "metadata": {},
   "outputs": [
    {
     "name": "stdout",
     "output_type": "stream",
     "text": [
      "['Yes' 'No']\n"
     ]
    }
   ],
   "source": [
    "resources = survey.loc[:, survey.columns.str.contains('resources', regex=True)]\n",
    "resources.fillna('', inplace=True)\n",
    "survey['Access to information'] = resources.apply(lambda row: ''.join(row.values.astype(str)), axis=1)\n",
    "survey.loc[survey['Access to information'].str.contains('yes|Yes' , regex=True), 'Access to information'] = 'Yes'\n",
    "survey.loc[survey['Access to information'].str.contains('no|No' , regex=True), 'Access to information'] = 'No'\n",
    "survey.drop(resources, axis=1, inplace=True)\n",
    "showAccessToInformation = survey['Access to information']\n",
    "print(showAccessToInformation.unique())"
   ]
  },
  {
   "cell_type": "code",
   "execution_count": 15,
   "metadata": {},
   "outputs": [
    {
     "name": "stdout",
     "output_type": "stream",
     "text": [
      "                                                    Total missing     Percent\n",
      "other                                                        3866  100.000000\n",
      "anxiety disorder (generalized, social, phobia, ...           3866  100.000000\n",
      "stress response syndromes                                    3866  100.000000\n",
      "psychotic disorder (schizophrenia, schizoaffect...           3866  100.000000\n",
      "psychotic disorder (schizophrenia, schizoaffect...           3866  100.000000\n",
      "post-traumatic stress disorder                               3866  100.000000\n",
      "personality disorder (borderline, antisocial, p...           3866  100.000000\n",
      "addictive disorder                                           3866  100.000000\n",
      "obsessive-compulsive disorder                                3866  100.000000\n",
      "mood disorder (depression, bipolar disorder, etc)            3866  100.000000\n",
      "attention deficit hyperactivity disorder                     3866  100.000000\n",
      "eating disorder (anorexia, bulimia, etc)                     3866  100.000000\n",
      "dissociative disorder                                        3866  100.000000\n",
      "substance use disorder                                       3866  100.000000\n",
      "other.1                                                      3861   99.870667\n",
      "eating disorder (anorexia, bulimia, etc).1                   3861   99.870667\n",
      "dissociative disorder.1                                      3860   99.844801\n",
      "dissociative disorder.2                                      3858   99.793068\n",
      "substance use disorder.1                                     3856   99.741335\n",
      "stress response syndromes.2                                  3853   99.663735\n"
     ]
    },
    {
     "data": {
      "image/png": "[encoded data removed]",
      "text/plain": [
       "<Figure size 1800x360 with 1 Axes>"
      ]
     },
     "metadata": {
      "needs_background": "light"
     },
     "output_type": "display_data"
    }
   ],
   "source": [
    "noisyData = ShowNullValues(survey)"
   ]
  },
  {
   "cell_type": "markdown",
   "metadata": {},
   "source": [
    "### Let's explore if the employees have had any history of past diagnosis or if they find it comfortable to discuss their problems with their co-workers or supervisors.  "
   ]
  },
  {
   "cell_type": "code",
   "execution_count": 16,
   "metadata": {},
   "outputs": [
    {
     "name": "stdout",
     "output_type": "stream",
     "text": [
      "[' ' 'Yes' 'No']\n"
     ]
    }
   ],
   "source": [
    "insurance = survey.loc[:, survey.columns.str.contains('insurance', regex=True)]\n",
    "insurance.fillna('', inplace=True)\n",
    "survey['Insurance'] = insurance.apply(lambda row: ' '.join(row.values.astype(str)), axis=1)\n",
    "survey.loc[survey['Insurance'].str.contains('1.0|1' , regex=True), 'Insurance'] = 'Yes'\n",
    "survey.loc[survey['Insurance'].str.contains('0.0|0' , regex=True), 'Insurance'] = 'No'\n",
    "survey.drop(insurance, axis=1, inplace=True)\n",
    "showInsurance = survey['Insurance']\n",
    "print(showInsurance.unique())"
   ]
  },
  {
   "cell_type": "code",
   "execution_count": 17,
   "metadata": {},
   "outputs": [
    {
     "name": "stdout",
     "output_type": "stream",
     "text": [
      "['        ' 'Yes' 'No' 'Sometimes']\n"
     ]
    }
   ],
   "source": [
    "diagnosis = survey.loc[:, survey.columns.str.contains('diagnosed|Diagnosed|diagnose|Diagnose', regex=True)]\n",
    "diagnosis.fillna(' ', inplace=True)\n",
    "survey['Diagnosis'] = diagnosis.apply(lambda row: ''.join(row.values.astype(str)), axis=1)\n",
    "survey.loc[survey['Diagnosis'].str.contains('yes|Yes' , regex=True), 'Diagnosis'] = 'Yes'\n",
    "survey.loc[survey['Diagnosis'].str.contains('no|No' , regex=True), 'Diagnosis'] = 'No'\n",
    "survey.loc[survey['Diagnosis'].str.contains('sometimes|Sometimes' , regex=True), 'Diagnosis'] = 'Sometimes'\n",
    "survey.drop(diagnosis, axis=1, inplace=True)\n",
    "showDiagnosis = survey['Diagnosis']\n",
    "print(showDiagnosis.unique())"
   ]
  },
  {
   "cell_type": "code",
   "execution_count": 18,
   "metadata": {},
   "outputs": [
    {
     "name": "stdout",
     "output_type": "stream",
     "text": [
      "['Maybe' 'No' 'Yes' '']\n"
     ]
    }
   ],
   "source": [
    "discuss = survey.loc[:, survey.columns.str.contains('discuss|Discuss', regex=True)]\n",
    "discuss.fillna('', inplace=True)\n",
    "survey['Discuss Mental Health Problems'] = discuss.apply(lambda row: ''.join(row.values.astype(str)), axis=1)\n",
    "survey.loc[survey['Discuss Mental Health Problems'].str.contains('some|Some' , regex=True), 'Discuss Mental Health Problems'] = 'Maybe'\n",
    "survey.loc[survey['Discuss Mental Health Problems'].str.contains('yes|Yes' , regex=True), 'Discuss Mental Health Problems'] = 'Yes'\n",
    "survey.loc[survey['Discuss Mental Health Problems'].str.contains('no|No' , regex=True), 'Discuss Mental Health Problems'] = 'No'\n",
    "survey.drop(discuss, axis=1, inplace=True)\n",
    "showDiscussMentalHealthProblems = survey['Discuss Mental Health Problems']\n",
    "print(showDiscussMentalHealthProblems.unique())"
   ]
  },
  {
   "cell_type": "markdown",
   "metadata": {},
   "source": [
    "### An employer that positively treats or helps with issues of mental health goes a long way in making the worlplace more friendly and conducive."
   ]
  },
  {
   "cell_type": "code",
   "execution_count": 19,
   "metadata": {},
   "outputs": [
    {
     "name": "stdout",
     "output_type": "stream",
     "text": [
      "['Yes' 'No' 'Maybe' '         ' 'Self-Employed']\n"
     ]
    }
   ],
   "source": [
    "response = survey.loc[:, survey.columns.str.contains('handled|provided|serious', regex=True)]\n",
    "response.fillna(' ', inplace=True)\n",
    "survey['Responsible Employer'] = response.apply(lambda row: ''.join(row.values.astype(str)), axis=1)\n",
    "survey.loc[survey['Responsible Employer'].str.contains('some|Some' , regex=True), 'Responsible Employer'] = 'Maybe'\n",
    "survey.loc[survey['Responsible Employer'].str.contains('yes|Yes' , regex=True), 'Responsible Employer'] = 'Yes'\n",
    "survey.loc[survey['Responsible Employer'].str.contains('no|No' , regex=True), 'Responsible Employer'] = 'No'\n",
    "survey.loc[survey['Responsible Employer'].str.contains('self-employed' , regex=True), 'Responsible Employer'] = 'Self-Employed'\n",
    "survey.drop(response, axis=1, inplace=True)\n",
    "showResposibleEmployer = survey['Responsible Employer']\n",
    "print(showResposibleEmployer.unique())"
   ]
  },
  {
   "cell_type": "code",
   "execution_count": 20,
   "metadata": {},
   "outputs": [
    {
     "name": "stdout",
     "output_type": "stream",
     "text": [
      "                                                    Total missing     Percent\n",
      "obsessive-compulsive disorder                                3866  100.000000\n",
      "personality disorder (borderline, antisocial, p...           3866  100.000000\n",
      "dissociative disorder                                        3866  100.000000\n",
      "post-traumatic stress disorder                               3866  100.000000\n",
      "eating disorder (anorexia, bulimia, etc)                     3866  100.000000\n",
      "mood disorder (depression, bipolar disorder, etc)            3866  100.000000\n",
      "psychotic disorder (schizophrenia, schizoaffect...           3866  100.000000\n",
      "attention deficit hyperactivity disorder                     3866  100.000000\n",
      "psychotic disorder (schizophrenia, schizoaffect...           3866  100.000000\n",
      "substance use disorder                                       3866  100.000000\n",
      "anxiety disorder (generalized, social, phobia, ...           3866  100.000000\n",
      "stress response syndromes                                    3866  100.000000\n",
      "addictive disorder                                           3866  100.000000\n",
      "other                                                        3866  100.000000\n",
      "eating disorder (anorexia, bulimia, etc).1                   3861   99.870667\n",
      "other.1                                                      3861   99.870667\n",
      "dissociative disorder.1                                      3860   99.844801\n",
      "dissociative disorder.2                                      3858   99.793068\n",
      "substance use disorder.1                                     3856   99.741335\n",
      "stress response syndromes.2                                  3853   99.663735\n"
     ]
    },
    {
     "data": {
      "image/png": "[encoded data removed]",
      "text/plain": [
       "<Figure size 1800x360 with 1 Axes>"
      ]
     },
     "metadata": {
      "needs_background": "light"
     },
     "output_type": "display_data"
    }
   ],
   "source": [
    "noisyData = ShowNullValues(survey)"
   ]
  },
  {
   "cell_type": "markdown",
   "metadata": {},
   "source": [
    "### Let's check if employees or workers have any hostory of disorders or if they work in tehcnology sector."
   ]
  },
  {
   "cell_type": "code",
   "execution_count": 21,
   "metadata": {},
   "outputs": [
    {
     "name": "stdout",
     "output_type": "stream",
     "text": [
      "[0 1]\n"
     ]
    }
   ],
   "source": [
    "Disorder = survey.loc[:, survey.columns.str.contains('Disorder|disorder|syndrome|other', regex=True)]\n",
    "Disorder.fillna('', inplace=True)\n",
    "DisorderNotes = Disorder.apply(lambda row: ' '.join(row.values.astype(str)), axis=1)\n",
    "survey['Disorder Notes'] = DisorderNotes\n",
    "survey['Disorder'] = DisorderNotes\n",
    "disorderTerms = 'disorder|Disorder|negative|Negative|syndrome|Syndrome|bipolar|Bipolar|depression|Depression|autism|PTSD|Yes|yes'\n",
    "survey.loc[survey['Disorder'].str.contains(disorderTerms , regex=True), 'Disorder'] = 1\n",
    "survey.loc[survey['Disorder']!=1, 'Disorder'] = 0\n",
    "survey.drop(Disorder, axis=1, inplace=True)\n",
    "showDisorder = survey[['Disorder', 'Disorder Notes']]\n",
    "print(survey['Disorder'].unique())"
   ]
  },
  {
   "cell_type": "code",
   "execution_count": 22,
   "metadata": {},
   "outputs": [
    {
     "name": "stdout",
     "output_type": "stream",
     "text": [
      "['Yes' 'No' '  ']\n"
     ]
    }
   ],
   "source": [
    "techEmployer = survey.loc[:, survey.columns.str.contains('tech company|tech/IT', regex=True)]\n",
    "techEmployer.fillna(' ', inplace=True)\n",
    "survey['Tech Employer'] = techEmployer.apply(lambda row: ''.join(row.values.astype(str)), axis=1)\n",
    "survey.loc[survey['Tech Employer'].str.contains('yes|Yes|1|1.0' , regex=True), 'Tech Employer'] = 'Yes'\n",
    "survey.loc[survey['Tech Employer'].str.contains('no|No|0|0.0' , regex=True), 'Tech Employer'] = 'No'\n",
    "survey.drop(techEmployer, axis=1, inplace=True)\n",
    "showTechEmployer = survey['Tech Employer']\n",
    "print(showTechEmployer.unique())"
   ]
  },
  {
   "cell_type": "code",
   "execution_count": 23,
   "metadata": {},
   "outputs": [
    {
     "name": "stdout",
     "output_type": "stream",
     "text": [
      "                                                    Total missing    Percent\n",
      "how has it affected your career?                             3824  98.913606\n",
      "has being identified as a person with a mental ...           3731  96.508019\n",
      "any additional notes or comments                             3702  95.757889\n",
      "if there is anything else you would like to tel...           3585  92.731505\n",
      "if maybe, what condition(s) do you believe you ...           3544  91.670978\n",
      "if yes, what percentage of your work time (time...           3536  91.464046\n",
      "do you believe your productivity is ever affect...           3410  88.204863\n",
      "does your employer provide mental health benefi...           3223  83.367822\n",
      "if you live in the united states, which state o...           3122  80.755303\n",
      "what is your race?                                           3082  79.720641\n",
      "briefly describe what you think the industry as...           3077  79.591309\n",
      "what us state or territory do you live in?                   3058  79.099845\n",
      "what us state or territory do you live in?                   3026  78.272116\n",
      "if you have a mental health condition, do you f...           2870  74.236937\n",
      "if a mental health issue prompted you to reques...           2862  74.030005\n",
      "would you feel more comfortable talking to your...           2862  74.030005\n",
      "overall, how much importance does your employer...           2862  74.030005\n",
      "overall, how much importance does your employer...           2862  74.030005\n",
      "would you have felt more comfortable talking to...           2836  73.357475\n",
      "overall, how much importance did your previous ...           2836  73.357475\n"
     ]
    },
    {
     "data": {
      "image/png": "[encoded data removed]",
      "text/plain": [
       "<Figure size 1800x360 with 1 Axes>"
      ]
     },
     "metadata": {
      "needs_background": "light"
     },
     "output_type": "display_data"
    }
   ],
   "source": [
    "noisyData = ShowNullValues(survey)"
   ]
  },
  {
   "cell_type": "markdown",
   "metadata": {},
   "source": [
    "### The dataset is cleaned to remove duplicate columns and all the mostly empty features."
   ]
  },
  {
   "cell_type": "code",
   "execution_count": 24,
   "metadata": {},
   "outputs": [],
   "source": [
    "survey = survey.loc[:, ~survey.columns.duplicated()]\n",
    "\n",
    "emptyColumns = survey.isnull().sum() \n",
    "for column in emptyColumns.index:\n",
    "      if emptyColumns[column]>1000:\n",
    "          survey.drop(column, axis=1, inplace=True)"
   ]
  },
  {
   "cell_type": "markdown",
   "metadata": {},
   "source": [
    "### The cleaned dataset is exported as a CSV file and saved."
   ]
  },
  {
   "cell_type": "code",
   "execution_count": 25,
   "metadata": {},
   "outputs": [
    {
     "name": "stdout",
     "output_type": "stream",
     "text": [
      "str cast\t\t do you have a family history of mental illness?\n",
      "str cast\t\t how many employees does your company or organization have?\n",
      "numeric cast\t\t year\n",
      "numeric cast\t\t Age\n",
      "str cast\t\t Age-range\n",
      "str cast\t\t Gender\n",
      "str cast\t\t Sought Treatment\n",
      "str cast\t\t Describe Past Experience\n",
      "str cast\t\t Prefer Anonymity\n",
      "str cast\t\t Rate Reaction to Problems\n",
      "str cast\t\t Negative Consequences\n",
      "str cast\t\t Location\n",
      "str cast\t\t Access to information\n",
      "str cast\t\t Insurance\n",
      "str cast\t\t Diagnosis\n",
      "str cast\t\t Discuss Mental Health Problems\n",
      "str cast\t\t Responsible Employer\n",
      "str cast\t\t Disorder Notes\n",
      "numeric cast\t\t Disorder\n",
      "str cast\t\t Tech Employer\n"
     ]
    }
   ],
   "source": [
    "for feature in survey:\n",
    "    try: \n",
    "        survey[feature] = pd.to_numeric(survey[feature], errors='coerce').astype(int)\n",
    "        print('numeric cast\\t\\t', feature)\n",
    "    except:\n",
    "       try:\n",
    "           survey[feature] = survey[feature].astype(str)\n",
    "           survey.loc[survey[feature].str.contains('^\\s+$' , regex=True), feature] = np.nan\n",
    "           print('str cast\\t\\t', feature)\n",
    "       except:\n",
    "           continue\n",
    "                 \n",
    "survey.to_csv('cleanedDatasets/OSMIcleaned.csv', index=False)"
   ]
  },
  {
   "cell_type": "code",
   "execution_count": 26,
   "metadata": {},
   "outputs": [
    {
     "name": "stdout",
     "output_type": "stream",
     "text": [
      "                                                    Total missing    Percent\n",
      "Insurance                                                    3410  88.204863\n",
      "Describe Past Experience                                     3141  81.246767\n",
      "Rate Reaction to Problems                                    2695  69.710295\n",
      "Prefer Anonymity                                             2695  69.710295\n",
      "Diagnosis                                                    1822  47.128815\n",
      "Disorder Notes                                               1260  32.591826\n",
      "Tech Employer                                                 302   7.811692\n",
      "Responsible Employer                                           38   0.982928\n",
      "Negative Consequences                                           2   0.051733\n",
      "Access to information                                           0   0.000000\n",
      "Location                                                        0   0.000000\n",
      "Disorder                                                        0   0.000000\n",
      "Discuss Mental Health Problems                                  0   0.000000\n",
      "Sought Treatment                                                0   0.000000\n",
      "Gender                                                          0   0.000000\n",
      "Age-range                                                       0   0.000000\n",
      "Age                                                             0   0.000000\n",
      "year                                                            0   0.000000\n",
      "how many employees does your company or organiz...              0   0.000000\n",
      "do you have a family history of mental illness?                 0   0.000000\n"
     ]
    },
    {
     "data": {
      "image/png": "[encoded data removed]",
      "text/plain": [
       "<Figure size 1800x360 with 1 Axes>"
      ]
     },
     "metadata": {
      "needs_background": "light"
     },
     "output_type": "display_data"
    }
   ],
   "source": [
    "noisyData = ShowNullValues(survey)"
   ]
  },
  {
   "cell_type": "markdown",
   "metadata": {},
   "source": [
    "## The cleaned dataset is in **cleanedDatasets** folder."
   ]
  }
 ],
 "metadata": {
  "kernelspec": {
   "display_name": "Python 3",
   "language": "python",
   "name": "python3"
  },
  "language_info": {
   "codemirror_mode": {
    "name": "ipython",
    "version": 3
   },
   "file_extension": ".py",
   "mimetype": "text/x-python",
   "name": "python",
   "nbconvert_exporter": "python",
   "pygments_lexer": "ipython3",
   "version": "3.7.4"
  }
 },
 "nbformat": 4,
 "nbformat_minor": 4
}
